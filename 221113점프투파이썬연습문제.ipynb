{
 "cells": [
  {
   "cell_type": "code",
   "execution_count": 2,
   "metadata": {},
   "outputs": [],
   "source": [
    "answer= int(input(\"숫자를 입력하시오\"))\n",
    "a=1\n",
    "\n",
    "while a % 3 == 0:\n",
    "    a=a+3\n",
    "    print(\"숫자의 합입니다\")\n",
    "    if a %3 !=0:\n",
    "        print(\"잘못입력하셨습니다\")\n",
    "        break\n",
    "    "
   ]
  },
  {
   "cell_type": "code",
   "execution_count": 6,
   "metadata": {},
   "outputs": [
    {
     "name": "stdout",
     "output_type": "stream",
     "text": [
      "166833\n"
     ]
    }
   ],
   "source": [
    "result=0\n",
    "num=1\n",
    "while num <=1000:\n",
    "    if num %3==0:\n",
    "        result+=num\n",
    "    num+=1\n",
    "print(result)\n",
    "        "
   ]
  },
  {
   "cell_type": "code",
   "execution_count": 8,
   "metadata": {},
   "outputs": [
    {
     "name": "stdout",
     "output_type": "stream",
     "text": [
      "100500\n"
     ]
    }
   ],
   "source": [
    "result=0\n",
    "a=1\n",
    "while a<=1000:\n",
    "    if a % 5== 0:\n",
    "        result+=a\n",
    "    a+=1\n",
    "print(result)"
   ]
  },
  {
   "cell_type": "code",
   "execution_count": 9,
   "metadata": {},
   "outputs": [
    {
     "name": "stdout",
     "output_type": "stream",
     "text": [
      "*\n",
      "**\n",
      "***\n",
      "****\n",
      "*****\n"
     ]
    }
   ],
   "source": [
    "i=0\n",
    "\n",
    "while True:\n",
    "    i+=1\n",
    "    if(i>5):\n",
    "        break\n",
    "    print(\"*\"*i)"
   ]
  },
  {
   "cell_type": "code",
   "execution_count": 14,
   "metadata": {},
   "outputs": [
    {
     "name": "stdout",
     "output_type": "stream",
     "text": [
      "*\n",
      "**\n",
      "***\n",
      "****\n",
      "*****\n"
     ]
    }
   ],
   "source": [
    "i= 0\n",
    "while True:\n",
    "    i+=1\n",
    "    if i>5:\n",
    "        break\n",
    "    print(\"*\"*i)"
   ]
  },
  {
   "cell_type": "code",
   "execution_count": 17,
   "metadata": {},
   "outputs": [
    {
     "name": "stdout",
     "output_type": "stream",
     "text": [
      "*\n",
      "**\n",
      "***\n",
      "****\n",
      "*****\n"
     ]
    }
   ],
   "source": [
    "i=0\n",
    "while True:\n",
    "   i+=1\n",
    "   if i>5:\n",
    "       break\n",
    "   print(\"*\"*i)"
   ]
  },
  {
   "cell_type": "code",
   "execution_count": 18,
   "metadata": {},
   "outputs": [
    {
     "name": "stdout",
     "output_type": "stream",
     "text": [
      "1\n",
      "2\n",
      "3\n",
      "4\n",
      "5\n",
      "6\n",
      "7\n",
      "8\n",
      "9\n",
      "10\n",
      "11\n",
      "12\n",
      "13\n",
      "14\n",
      "15\n",
      "16\n",
      "17\n",
      "18\n",
      "19\n",
      "20\n",
      "21\n",
      "22\n",
      "23\n",
      "24\n",
      "25\n",
      "26\n",
      "27\n",
      "28\n",
      "29\n",
      "30\n",
      "31\n",
      "32\n",
      "33\n",
      "34\n",
      "35\n",
      "36\n",
      "37\n",
      "38\n",
      "39\n",
      "40\n",
      "41\n",
      "42\n",
      "43\n",
      "44\n",
      "45\n",
      "46\n",
      "47\n",
      "48\n",
      "49\n",
      "50\n",
      "51\n",
      "52\n",
      "53\n",
      "54\n",
      "55\n",
      "56\n",
      "57\n",
      "58\n",
      "59\n",
      "60\n",
      "61\n",
      "62\n",
      "63\n",
      "64\n",
      "65\n",
      "66\n",
      "67\n",
      "68\n",
      "69\n",
      "70\n",
      "71\n",
      "72\n",
      "73\n",
      "74\n",
      "75\n",
      "76\n",
      "77\n",
      "78\n",
      "79\n",
      "80\n",
      "81\n",
      "82\n",
      "83\n",
      "84\n",
      "85\n",
      "86\n",
      "87\n",
      "88\n",
      "89\n",
      "90\n",
      "91\n",
      "92\n",
      "93\n",
      "94\n",
      "95\n",
      "96\n",
      "97\n",
      "98\n",
      "99\n",
      "100\n"
     ]
    }
   ],
   "source": [
    "for i in range(1,101):\n",
    "    print(i)"
   ]
  },
  {
   "cell_type": "code",
   "execution_count": 20,
   "metadata": {},
   "outputs": [
    {
     "name": "stdout",
     "output_type": "stream",
     "text": [
      "79.0\n"
     ]
    }
   ],
   "source": [
    "a=[70,60,55,75,95,90,80,80,85,100]\n",
    "total=0\n",
    "for score in a:\n",
    "    total+=score\n",
    "average=total/10\n",
    "print(average)"
   ]
  },
  {
   "cell_type": "code",
   "execution_count": 21,
   "metadata": {},
   "outputs": [
    {
     "name": "stdout",
     "output_type": "stream",
     "text": [
      "79.0\n"
     ]
    }
   ],
   "source": [
    "a= [70,60,55,75,95,90,80,80,85,100]\n",
    "total=0\n",
    "for score in a:\n",
    "    total+=score\n",
    "b=total/10\n",
    "print(b)"
   ]
  },
  {
   "cell_type": "code",
   "execution_count": 28,
   "metadata": {},
   "outputs": [
    {
     "name": "stdout",
     "output_type": "stream",
     "text": [
      "50\n"
     ]
    }
   ],
   "source": [
    "a=(input(\"숫자를 입력하시오\"))\n",
    "print(10+int(a))"
   ]
  },
  {
   "cell_type": "code",
   "execution_count": 29,
   "metadata": {},
   "outputs": [
    {
     "name": "stdout",
     "output_type": "stream",
     "text": [
      "짝수\n"
     ]
    }
   ],
   "source": [
    "a=int(input(\"숫자를 입력하시오\"))\n",
    "if a % 2==0:\n",
    "    print(\"짝수\")\n",
    "elif a % 3==0:\n",
    "    print(\"홀수\")\n",
    "else:\n",
    "    print()"
   ]
  },
  {
   "cell_type": "code",
   "execution_count": 37,
   "metadata": {},
   "outputs": [
    {
     "name": "stdout",
     "output_type": "stream",
     "text": [
      "255\n"
     ]
    }
   ],
   "source": [
    "a=int(input(\"숫자를 입력하시오\"))\n",
    "num=20+int(a)\n",
    "if num >255:\n",
    "    print(255)\n",
    "else:\n",
    "    print(num)"
   ]
  },
  {
   "cell_type": "code",
   "execution_count": 43,
   "metadata": {},
   "outputs": [
    {
     "name": "stdout",
     "output_type": "stream",
     "text": [
      "정각이아닙니다\n"
     ]
    }
   ],
   "source": [
    "time=input(\"시간을 입력하시오\")\n",
    "if time [-2:]==\"00\":\n",
    "    print(\"정각입니다\")\n",
    "else:\n",
    "    print(\"정각이아닙니다\")"
   ]
  },
  {
   "cell_type": "code",
   "execution_count": 50,
   "metadata": {},
   "outputs": [
    {
     "name": "stdout",
     "output_type": "stream",
     "text": [
      "정답입니다\n",
      "정답입니다\n",
      "정답입니다\n"
     ]
    }
   ],
   "source": [
    "fruit=input(\"좋아하는 과일은?\")\n",
    "fruit=[\"사과\",\"포도\",\"홍시\"]\n",
    "for i in fruit:\n",
    "    print(\"정답입니다\")"
   ]
  },
  {
   "cell_type": "code",
   "execution_count": 52,
   "metadata": {},
   "outputs": [
    {
     "name": "stdout",
     "output_type": "stream",
     "text": [
      "정답입니다\n"
     ]
    }
   ],
   "source": [
    "user=input(\"좋아하는 과일은?\")\n",
    "fruit=[\"사과\",\"포도\",\"홍시\"]\n",
    "\n",
    "if user in fruit:\n",
    "    print(\"정답입니다\")\n",
    "else:\n",
    "    print(\"정답이 아닙니다\")"
   ]
  },
  {
   "cell_type": "code",
   "execution_count": 54,
   "metadata": {},
   "outputs": [
    {
     "name": "stdout",
     "output_type": "stream",
     "text": [
      "투자 경고 종목이 아닙니다\n"
     ]
    }
   ],
   "source": [
    "user=input(\"투자한 종목을 입력하시오\")\n",
    "warn_investment_list = [\"Microsoft\", \"Google\", \"Naver\", \"Kakao\", \"SAMSUNG\", \"LG\"]\n",
    "if user in warn_investment_list:\n",
    "    print(\"투자 경고 종목입니다\")\n",
    "else:\n",
    "    print(\"투자 경고 종목이 아닙니다\")"
   ]
  },
  {
   "cell_type": "code",
   "execution_count": 56,
   "metadata": {},
   "outputs": [
    {
     "name": "stdout",
     "output_type": "stream",
     "text": [
      "정답이 아닙니다\n"
     ]
    }
   ],
   "source": [
    "user=input(\"제가 좋아하는 계절은?\")\n",
    "fruit = {\"봄\" : \"딸기\", \"여름\" : \"토마토\", \"가을\" : \"사과\"}\n",
    "if user in fruit:\n",
    "    print(\"정답입니다\")\n",
    "else:\n",
    "    print(\"정답이 아닙니다\")    "
   ]
  },
  {
   "cell_type": "code",
   "execution_count": 57,
   "metadata": {},
   "outputs": [
    {
     "name": "stdout",
     "output_type": "stream",
     "text": [
      "A\n"
     ]
    }
   ],
   "source": [
    "answer=input(\"문자를 입력하시오\")\n",
    "if answer.islower():\n",
    "    print(answer.upper())\n",
    "else:\n",
    "    print(user.lower())"
   ]
  }
 ],
 "metadata": {
  "kernelspec": {
   "display_name": "Python 3.10.1 64-bit",
   "language": "python",
   "name": "python3"
  },
  "language_info": {
   "codemirror_mode": {
    "name": "ipython",
    "version": 3
   },
   "file_extension": ".py",
   "mimetype": "text/x-python",
   "name": "python",
   "nbconvert_exporter": "python",
   "pygments_lexer": "ipython3",
   "version": "3.10.1"
  },
  "orig_nbformat": 4,
  "vscode": {
   "interpreter": {
    "hash": "26de051ba29f2982a8de78e945f0abaf191376122a1563185a90213a26c5da77"
   }
  }
 },
 "nbformat": 4,
 "nbformat_minor": 2
}
