{
 "cells": [
  {
   "cell_type": "code",
   "execution_count": 3,
   "metadata": {},
   "outputs": [
    {
     "name": "stdout",
     "output_type": "stream",
     "text": [
      "c\n"
     ]
    }
   ],
   "source": [
    "#122번문제\n",
    "score=int(input())\n",
    "\n",
    "if score >=81:\n",
    "    print(\"A\")\n",
    "elif score >=61:\n",
    "    print(\"B\")\n",
    "elif score >=41:\n",
    "    print(\"c\")\n",
    "elif score >=21:\n",
    "    print(\"D\")\n",
    "else:\n",
    "    print(\"E\")"
   ]
  },
  {
   "cell_type": "code",
   "execution_count": null,
   "metadata": {},
   "outputs": [],
   "source": []
  },
  {
   "cell_type": "code",
   "execution_count": 4,
   "metadata": {},
   "outputs": [
    {
     "ename": "ValueError",
     "evalue": "invalid literal for int() with base 10: '100달러'",
     "output_type": "error",
     "traceback": [
      "\u001b[1;31m---------------------------------------------------------------------------\u001b[0m",
      "\u001b[1;31mValueError\u001b[0m                                Traceback (most recent call last)",
      "Cell \u001b[1;32mIn [4], line 1\u001b[0m\n\u001b[1;32m----> 1\u001b[0m cash\u001b[39m=\u001b[39m\u001b[39mint\u001b[39;49m(\u001b[39minput\u001b[39;49m())\n\u001b[0;32m      2\u001b[0m cash\u001b[39m=\u001b[39m{\u001b[39m\"\u001b[39m\u001b[39m달러\u001b[39m\u001b[39m\"\u001b[39m:\u001b[39m1167\u001b[39m,\u001b[39m\"\u001b[39m\u001b[39m엔\u001b[39m\u001b[39m\"\u001b[39m:\u001b[39m1.096\u001b[39m,\u001b[39m\"\u001b[39m\u001b[39m유로\u001b[39m\u001b[39m\"\u001b[39m:\u001b[39m1268\u001b[39m,\u001b[39m\"\u001b[39m\u001b[39m위안\u001b[39m\u001b[39m\"\u001b[39m:\u001b[39m171\u001b[39m}\n\u001b[0;32m      3\u001b[0m \u001b[39mfor\u001b[39;00m i \u001b[39min\u001b[39;00m \u001b[39mrange\u001b[39m(\u001b[39m1\u001b[39m,cash):\n",
      "\u001b[1;31mValueError\u001b[0m: invalid literal for int() with base 10: '100달러'"
     ]
    }
   ],
   "source": [
    "cash=int(input())\n",
    "cash={\"달러\":1167,\"엔\":1.096,\"유로\":1268,\"위안\":171}\n",
    "for i in range(1,cash):\n",
    "    print(cash)"
   ]
  },
  {
   "cell_type": "code",
   "execution_count": 6,
   "metadata": {},
   "outputs": [
    {
     "ename": "ValueError",
     "evalue": "not enough values to unpack (expected 2, got 1)",
     "output_type": "error",
     "traceback": [
      "\u001b[1;31m---------------------------------------------------------------------------\u001b[0m",
      "\u001b[1;31mValueError\u001b[0m                                Traceback (most recent call last)",
      "Cell \u001b[1;32mIn [6], line 3\u001b[0m\n\u001b[0;32m      1\u001b[0m user\u001b[39m=\u001b[39m(\u001b[39minput\u001b[39m())\n\u001b[0;32m      2\u001b[0m 환율\u001b[39m=\u001b[39m{\u001b[39m\"\u001b[39m\u001b[39m달러\u001b[39m\u001b[39m\"\u001b[39m:\u001b[39m1167\u001b[39m,\u001b[39m\"\u001b[39m\u001b[39m엔\u001b[39m\u001b[39m\"\u001b[39m:\u001b[39m1.096\u001b[39m,\u001b[39m\"\u001b[39m\u001b[39m유로\u001b[39m\u001b[39m\"\u001b[39m:\u001b[39m1268\u001b[39m,\u001b[39m\"\u001b[39m\u001b[39m위안\u001b[39m\u001b[39m\"\u001b[39m:\u001b[39m171\u001b[39m}\n\u001b[1;32m----> 3\u001b[0m num,currency\u001b[39m=\u001b[39muser\u001b[39m.\u001b[39msplit()\n\u001b[0;32m      4\u001b[0m \u001b[39mprint\u001b[39m(\u001b[39mfloat\u001b[39m(num) \u001b[39m*\u001b[39m 환율[currency], \u001b[39m\"\u001b[39m\u001b[39m원\u001b[39m\u001b[39m\"\u001b[39m)\n",
      "\u001b[1;31mValueError\u001b[0m: not enough values to unpack (expected 2, got 1)"
     ]
    }
   ],
   "source": [
    "user=(input())\n",
    "환율={\"달러\":1167,\"엔\":1.096,\"유로\":1268,\"위안\":171}\n",
    "num,currency=user.split()\n",
    "print(float(num) * 환율[currency], \"원\")"
   ]
  },
  {
   "cell_type": "code",
   "execution_count": 7,
   "metadata": {},
   "outputs": [
    {
     "ename": "ValueError",
     "evalue": "not enough values to unpack (expected 2, got 1)",
     "output_type": "error",
     "traceback": [
      "\u001b[1;31m---------------------------------------------------------------------------\u001b[0m",
      "\u001b[1;31mValueError\u001b[0m                                Traceback (most recent call last)",
      "Cell \u001b[1;32mIn [7], line 6\u001b[0m\n\u001b[0;32m      1\u001b[0m 환율 \u001b[39m=\u001b[39m {\u001b[39m\"\u001b[39m\u001b[39m달러\u001b[39m\u001b[39m\"\u001b[39m: \u001b[39m1167\u001b[39m, \n\u001b[0;32m      2\u001b[0m         \u001b[39m\"\u001b[39m\u001b[39m엔\u001b[39m\u001b[39m\"\u001b[39m: \u001b[39m1.096\u001b[39m, \n\u001b[0;32m      3\u001b[0m         \u001b[39m\"\u001b[39m\u001b[39m유로\u001b[39m\u001b[39m\"\u001b[39m: \u001b[39m1268\u001b[39m, \n\u001b[0;32m      4\u001b[0m         \u001b[39m\"\u001b[39m\u001b[39m위안\u001b[39m\u001b[39m\"\u001b[39m: \u001b[39m171\u001b[39m}\n\u001b[0;32m      5\u001b[0m user \u001b[39m=\u001b[39m \u001b[39minput\u001b[39m(\u001b[39m\"\u001b[39m\u001b[39m입력: \u001b[39m\u001b[39m\"\u001b[39m)\n\u001b[1;32m----> 6\u001b[0m num, currency \u001b[39m=\u001b[39m user\u001b[39m.\u001b[39msplit()\n\u001b[0;32m      7\u001b[0m \u001b[39mprint\u001b[39m(\u001b[39mfloat\u001b[39m(num) \u001b[39m*\u001b[39m 환율[currency], \u001b[39m\"\u001b[39m\u001b[39m원\u001b[39m\u001b[39m\"\u001b[39m)\n",
      "\u001b[1;31mValueError\u001b[0m: not enough values to unpack (expected 2, got 1)"
     ]
    }
   ],
   "source": [
    "환율 = {\"달러\": 1167, \n",
    "        \"엔\": 1.096, \n",
    "        \"유로\": 1268, \n",
    "        \"위안\": 171}\n",
    "user = input(\"입력: \")\n",
    "num, currency = user.split()\n",
    "print(float(num) * 환율[currency], \"원\")"
   ]
  },
  {
   "cell_type": "code",
   "execution_count": 8,
   "metadata": {},
   "outputs": [
    {
     "name": "stdout",
     "output_type": "stream",
     "text": [
      "7\n"
     ]
    }
   ],
   "source": [
    "a=int(input(\"number1:\"))\n",
    "b=int(input(\"number2:\"))\n",
    "c=int(input(\"number3:\"))\n",
    "\n",
    "if a>b and a>b:\n",
    "    print(a)\n",
    "elif b>a and b>c:\n",
    "    print(b)\n",
    "else:\n",
    "    print(c)"
   ]
  },
  {
   "cell_type": "code",
   "execution_count": 26,
   "metadata": {},
   "outputs": [
    {
     "ename": "TypeError",
     "evalue": "int() argument must be a string, a bytes-like object or a real number, not 'list'",
     "output_type": "error",
     "traceback": [
      "\u001b[1;31m---------------------------------------------------------------------------\u001b[0m",
      "\u001b[1;31mTypeError\u001b[0m                                 Traceback (most recent call last)",
      "Cell \u001b[1;32mIn [26], line 1\u001b[0m\n\u001b[1;32m----> 1\u001b[0m \u001b[39mlist\u001b[39m \u001b[39m=\u001b[39m \u001b[39mint\u001b[39;49m([\u001b[39m100\u001b[39;49m, \u001b[39m200\u001b[39;49m, \u001b[39m300\u001b[39;49m])\n\u001b[0;32m      3\u001b[0m \u001b[39mfor\u001b[39;00m i \u001b[39min\u001b[39;00m \u001b[39mlist\u001b[39m:\n\u001b[0;32m      4\u001b[0m     \u001b[39mprint\u001b[39m(\u001b[39mlist\u001b[39m\u001b[39m+\u001b[39m\u001b[39m10\u001b[39m)\n",
      "\u001b[1;31mTypeError\u001b[0m: int() argument must be a string, a bytes-like object or a real number, not 'list'"
     ]
    }
   ],
   "source": [
    "list = int([100, 200, 300])\n",
    "\n",
    "for i in list:\n",
    "    print(list+10)"
   ]
  },
  {
   "cell_type": "code",
   "execution_count": 29,
   "metadata": {},
   "outputs": [
    {
     "name": "stdout",
     "output_type": "stream",
     "text": [
      "알수없음\n"
     ]
    }
   ],
   "source": [
    "number=(input())\n",
    "num=number.split(\"-\")\n",
    "if number == \"011\":\n",
    "    print(\"skt\")\n",
    "elif number == \"016\":\n",
    "    print(\"Kt\")\n",
    "elif number ==\"019\":\n",
    "    print(\"lgu\")\n",
    "else:\n",
    "    print(\"알수없음\")"
   ]
  },
  {
   "cell_type": "code",
   "execution_count": 1,
   "metadata": {},
   "outputs": [
    {
     "name": "stdout",
     "output_type": "stream",
     "text": [
      "#####\n",
      "#####\n",
      "#####\n"
     ]
    }
   ],
   "source": [
    "과일 = [\"사과\", \"귤\", \"수박\"]\n",
    "for 변수 in 과일:\n",
    "  print(\"#####\")"
   ]
  },
  {
   "cell_type": "code",
   "execution_count": 2,
   "metadata": {},
   "outputs": [
    {
     "name": "stdout",
     "output_type": "stream",
     "text": [
      "A\n",
      "B\n",
      "C\n"
     ]
    }
   ],
   "source": [
    "a= [\"A\", \"B\", \"C\"]\n",
    "for i in a:\n",
    "    print(i)"
   ]
  },
  {
   "cell_type": "code",
   "execution_count": 3,
   "metadata": {},
   "outputs": [
    {
     "name": "stdout",
     "output_type": "stream",
     "text": [
      "A\n",
      "B\n",
      "C\n"
     ]
    }
   ],
   "source": [
    "for 변수 in [\"A\", \"B\", \"C\"]:\n",
    "  print(변수)\n"
   ]
  },
  {
   "cell_type": "code",
   "execution_count": 4,
   "metadata": {},
   "outputs": [
    {
     "name": "stdout",
     "output_type": "stream",
     "text": [
      "출력: A\n",
      "출력: B\n",
      "출력: C\n"
     ]
    }
   ],
   "source": [
    "a= [\"A\", \"B\", \"C\"]\n",
    "for i in a:\n",
    "    print(\"출력:\",i)"
   ]
  },
  {
   "cell_type": "code",
   "execution_count": 5,
   "metadata": {},
   "outputs": [
    {
     "name": "stdout",
     "output_type": "stream",
     "text": [
      "출력: c\n",
      "출력: c\n",
      "출력: c\n"
     ]
    }
   ],
   "source": [
    "a= [\"A\", \"B\", \"C\"]\n",
    "b= 변수.lower()\n",
    "for i in a:\n",
    "    print(\"출력:\",b)"
   ]
  },
  {
   "cell_type": "code",
   "execution_count": 7,
   "metadata": {},
   "outputs": [
    {
     "name": "stdout",
     "output_type": "stream",
     "text": [
      "[10, 20, 30]\n",
      "[10, 20, 30]\n",
      "[10, 20, 30]\n"
     ]
    }
   ],
   "source": [
    "a=[10,20,30]\n",
    "for i in a:\n",
    "    print(a)"
   ]
  },
  {
   "cell_type": "code",
   "execution_count": 8,
   "metadata": {},
   "outputs": [
    {
     "name": "stdout",
     "output_type": "stream",
     "text": [
      "10\n",
      "20\n",
      "30\n"
     ]
    }
   ],
   "source": [
    "a=[10,20,30]\n",
    "for i in a:\n",
    "    print(i)"
   ]
  },
  {
   "cell_type": "code",
   "execution_count": 9,
   "metadata": {},
   "outputs": [
    {
     "name": "stdout",
     "output_type": "stream",
     "text": [
      "10\n",
      "20\n",
      "30\n"
     ]
    }
   ],
   "source": [
    "변수 = 10\n",
    "print(변수)\n",
    "변수 = 20\n",
    "print(변수)\n",
    "변수 = 30\n",
    "print(변수)"
   ]
  },
  {
   "cell_type": "code",
   "execution_count": 15,
   "metadata": {},
   "outputs": [
    {
     "name": "stdout",
     "output_type": "stream",
     "text": [
      "10\n",
      "-----\n",
      "20\n",
      "-----\n",
      "30\n",
      "-----\n"
     ]
    }
   ],
   "source": [
    "for i in ['10','20','30']:\n",
    "    print(i)\n",
    "    print(\"-----\")"
   ]
  },
  {
   "cell_type": "code",
   "execution_count": 14,
   "metadata": {},
   "outputs": [
    {
     "name": "stdout",
     "output_type": "stream",
     "text": [
      "10\n",
      "-------\n",
      "20\n",
      "-------\n",
      "30\n",
      "-------\n"
     ]
    }
   ],
   "source": [
    "print(10)\n",
    "print(\"-------\")\n",
    "print(20)\n",
    "print(\"-------\")\n",
    "print(30)\n",
    "print(\"-------\")"
   ]
  },
  {
   "cell_type": "code",
   "execution_count": 19,
   "metadata": {},
   "outputs": [
    {
     "name": "stdout",
     "output_type": "stream",
     "text": [
      "++++\n",
      "10\n",
      "20\n",
      "30\n"
     ]
    }
   ],
   "source": [
    "print(\"++++\")\n",
    "for i in [10,20,30]:\n",
    "    print(i)\n",
    "   \n",
    "\n"
   ]
  },
  {
   "cell_type": "code",
   "execution_count": 26,
   "metadata": {},
   "outputs": [
    {
     "name": "stdout",
     "output_type": "stream",
     "text": [
      "------\n",
      "------\n",
      "------\n",
      "------\n",
      "------\n"
     ]
    }
   ],
   "source": [
    "\n",
    "for i in [1,2,3,4,5]:\n",
    "    print(\"------\")\n",
    "   "
   ]
  },
  {
   "cell_type": "code",
   "execution_count": 30,
   "metadata": {},
   "outputs": [
    {
     "name": "stdout",
     "output_type": "stream",
     "text": [
      "110\n",
      "210\n",
      "310\n"
     ]
    }
   ],
   "source": [
    "for i in[100,200,300]:\n",
    "    print(i+10)\n",
    "    "
   ]
  },
  {
   "cell_type": "code",
   "execution_count": 35,
   "metadata": {},
   "outputs": [
    {
     "name": "stdout",
     "output_type": "stream",
     "text": [
      "오늘의 메뉴는 : 김밥\n",
      "오늘의 메뉴는 : 라면\n",
      "오늘의 메뉴는 : 튀김\n"
     ]
    }
   ],
   "source": [
    "\n",
    "for i in [\"김밥\", \"라면\", \"튀김\"]:\n",
    "    print(\"오늘의 메뉴는 :\",i)"
   ]
  },
  {
   "cell_type": "code",
   "execution_count": null,
   "metadata": {},
   "outputs": [],
   "source": []
  }
 ],
 "metadata": {
  "kernelspec": {
   "display_name": "Python 3.10.1 64-bit",
   "language": "python",
   "name": "python3"
  },
  "language_info": {
   "codemirror_mode": {
    "name": "ipython",
    "version": 3
   },
   "file_extension": ".py",
   "mimetype": "text/x-python",
   "name": "python",
   "nbconvert_exporter": "python",
   "pygments_lexer": "ipython3",
   "version": "3.10.1"
  },
  "orig_nbformat": 4,
  "vscode": {
   "interpreter": {
    "hash": "26de051ba29f2982a8de78e945f0abaf191376122a1563185a90213a26c5da77"
   }
  }
 },
 "nbformat": 4,
 "nbformat_minor": 2
}
