{
 "cells": [
  {
   "cell_type": "code",
   "execution_count": 93,
   "id": "6163f277",
   "metadata": {},
   "outputs": [],
   "source": [
    "import matplotlib.pyplot as plt\n",
    "import pandas as pd\n",
    "import seaborn as sns\n",
    "from importlib import reload"
   ]
  },
  {
   "cell_type": "code",
   "execution_count": 94,
   "id": "1b43b23a",
   "metadata": {},
   "outputs": [],
   "source": [
    "plt=reload(plt)\n",
    "plt.rcParams['font.family']='Malgun Gothic'\n",
    "plt.rcParams['axes.unicode_minus']=False"
   ]
  },
  {
   "cell_type": "code",
   "execution_count": 121,
   "id": "59ed41d7",
   "metadata": {},
   "outputs": [],
   "source": [
    "# 항상 csv 파일로만 할 수 있다고 생각했는데 url로도 파일을 가져올수있다!\n",
    "DataUrl = 'https://raw.githubusercontent.com/Datamanim/pandas/main/lol.csv'\n",
    "df = pd.read_csv(DataUrl,sep='\\t')"
   ]
  },
  {
   "cell_type": "code",
   "execution_count": null,
   "id": "127347a6",
   "metadata": {},
   "outputs": [],
   "source": [
    "type(df)"
   ]
  },
  {
   "cell_type": "code",
   "execution_count": null,
   "id": "73120104",
   "metadata": {},
   "outputs": [],
   "source": [
    "df"
   ]
  },
  {
   "cell_type": "code",
   "execution_count": null,
   "id": "b8ffdd28",
   "metadata": {},
   "outputs": [],
   "source": [
    "#1. 데이터 상위 5개 행을 출력하라\n",
    "df.head(5)"
   ]
  },
  {
   "cell_type": "code",
   "execution_count": null,
   "id": "7022a913",
   "metadata": {},
   "outputs": [],
   "source": [
    "#2. 데이터 행과 열의 갯수를 파악하라\n",
    "df.shape\n",
    "# 행 51490개, 열 61개"
   ]
  },
  {
   "cell_type": "code",
   "execution_count": null,
   "id": "0d5c783c",
   "metadata": {
    "scrolled": true
   },
   "outputs": [],
   "source": [
    "#3. 전체 컬럼을 출력하라 \n",
    "df.columns"
   ]
  },
  {
   "cell_type": "code",
   "execution_count": null,
   "id": "0a024065",
   "metadata": {},
   "outputs": [],
   "source": [
    "df.columns"
   ]
  },
  {
   "cell_type": "code",
   "execution_count": null,
   "id": "afb712ee",
   "metadata": {},
   "outputs": [],
   "source": [
    "#5. 6번째 인덱스을 추출하여라 \n",
    "#6번째 인덱스 명 추출하기\n",
    "df.columns[5]\n"
   ]
  },
  {
   "cell_type": "code",
   "execution_count": null,
   "id": "03f99f42",
   "metadata": {},
   "outputs": [],
   "source": [
    "# 6번째 컬럼의 데이터 타입을 확인하라\n",
    "#6번째 인덱스명의 타입 확인하기\n",
    "df['firstBlood'].dtype"
   ]
  },
  {
   "cell_type": "code",
   "execution_count": null,
   "id": "1708d46c",
   "metadata": {},
   "outputs": [],
   "source": [
    "#7 데이터 셋의 인덱스 구성은 어떠한가?\n",
    "# 인덱스 명의 세션 확인하기 \n",
    "df.index"
   ]
  },
  {
   "cell_type": "code",
   "execution_count": null,
   "id": "14a13eef",
   "metadata": {},
   "outputs": [],
   "source": [
    "#6번째 컬럼의 3번째 값은?\n",
    "df.loc[2][5]"
   ]
  },
  {
   "cell_type": "code",
   "execution_count": null,
   "id": "7a9412f5",
   "metadata": {},
   "outputs": [],
   "source": [
    "df.iloc[2,5]"
   ]
  },
  {
   "cell_type": "code",
   "execution_count": null,
   "id": "a0ebc969",
   "metadata": {},
   "outputs": [],
   "source": [
    "DataUrl = 'https://raw.githubusercontent.com/Datamanim/pandas/main/Jeju.csv'\n",
    "df = pd.read_csv(DataUrl,encoding='euc-kr')"
   ]
  }
 ],
 "metadata": {
  "kernelspec": {
   "display_name": "Python 3 (ipykernel)",
   "language": "python",
   "name": "python3"
  },
  "language_info": {
   "codemirror_mode": {
    "name": "ipython",
    "version": 3
   },
   "file_extension": ".py",
   "mimetype": "text/x-python",
   "name": "python",
   "nbconvert_exporter": "python",
   "pygments_lexer": "ipython3",
   "version": "3.9.12"
  },
  "toc": {
   "base_numbering": 1,
   "nav_menu": {},
   "number_sections": true,
   "sideBar": true,
   "skip_h1_title": false,
   "title_cell": "Table of Contents",
   "title_sidebar": "Contents",
   "toc_cell": false,
   "toc_position": {},
   "toc_section_display": true,
   "toc_window_display": false
  }
 },
 "nbformat": 4,
 "nbformat_minor": 5
}
